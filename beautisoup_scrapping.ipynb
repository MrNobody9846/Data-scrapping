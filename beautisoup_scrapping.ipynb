{
 "cells": [
  {
   "cell_type": "code",
   "execution_count": 1,
   "metadata": {},
   "outputs": [],
   "source": [
    "from bs4 import BeautifulSoup\n",
    "import requests\n",
    "#external pharser used lxml => xml and html scrapper\n",
    "\n",
    "#steps before scrapping\n",
    "\n",
    "# # 1.Fetch the page\n",
    "# request=requests.get(\"www.google.com\")\n",
    "# # 2.obtain page content from the page\n",
    "# content=request.text\n",
    "# # 3.create soup\n",
    "# soup=BeautifulSoup(content,\"lxml\")\n",
    "\n",
    "\n",
    "# #To find element by id\n",
    "# soup.find(id=\"specificId\")\n",
    "\n",
    "# #to find element by class \n",
    "# soup.find('tag',class_=\"class_name\")\n",
    "\n",
    "# #for multiple\n",
    "# soup.find_all('h2')   => list \n",
    "\n"
   ]
  },
  {
   "cell_type": "markdown",
   "metadata": {},
   "source": [
    "single page"
   ]
  },
  {
   "cell_type": "code",
   "execution_count": 2,
   "metadata": {},
   "outputs": [],
   "source": [
    "website=\"https://subslikescript.com/movie/Titanic-120338\"\n",
    "\n",
    "result=requests.get(website)\n",
    "content=result.text\n",
    "soup=BeautifulSoup(content,\"lxml\")\n",
    "val=soup.prettify()\n",
    "\n",
    "box=soup.find('article',class_='main-article')\n",
    "\n",
    "title=box.find('h1').get_text()\n",
    "transcript=box.find('div',class_='full-script').get_text(strip=True,separator=\" \")\n",
    "\n",
    "with open(f\"{title}.txt\",'w') as file:\n",
    "    file.write(transcript)"
   ]
  },
  {
   "cell_type": "markdown",
   "metadata": {},
   "source": [
    "Multi -page using href"
   ]
  },
  {
   "cell_type": "code",
   "execution_count": 17,
   "metadata": {},
   "outputs": [],
   "source": [
    "root=\"https://subslikescript.com\"\n",
    "website=f\"{root}/movies\"\n",
    "\n",
    "result=requests.get(website)\n",
    "content=result.text\n",
    "soup=BeautifulSoup(content,\"lxml\")\n",
    "\n",
    "box=soup.find('article',class_='main-article')\n",
    "\n",
    "links=[]\n",
    "for link in box.find_all('a',href=True):\n",
    "    links.append(link['href'])\n",
    "for link in links:\n",
    "    web=f\"{root}{link}\"\n",
    "    r1=requests.get(web)\n",
    "    page_content=r1.text\n",
    "    page_soup=BeautifulSoup(page_content,\"lxml\")\n",
    "    page_box=page_soup.find('article',class_='main-article')\n",
    "    title=page_box.find('h1').get_text()\n",
    "    transcript=page_box.find('div',class_='full-script').get_text(strip=True,separator=\" \")\n",
    "    with open(f\"transcripts/{title}.txt\",'w') as file:\n",
    "        file.write(transcript)"
   ]
  },
  {
   "cell_type": "markdown",
   "metadata": {},
   "source": [
    "With pagination involved"
   ]
  },
  {
   "cell_type": "code",
   "execution_count": 29,
   "metadata": {},
   "outputs": [
    {
     "name": "stdout",
     "output_type": "stream",
     "text": [
      "[<li aria-disabled=\"true\" aria-label=\"« Previous\" class=\"page-item disabled\">\n",
      "<span aria-hidden=\"true\" class=\"page-link\">‹</span>\n",
      "</li>, <li aria-current=\"page\" class=\"page-item active\"><span class=\"page-link\">1</span></li>, <li class=\"page-item\"><a class=\"page-link\" href=\"https://subslikescript.com/movies_letter-A?page=2\">2</a></li>, <li class=\"page-item\"><a class=\"page-link\" href=\"https://subslikescript.com/movies_letter-A?page=3\">3</a></li>, <li class=\"page-item\"><a class=\"page-link\" href=\"https://subslikescript.com/movies_letter-A?page=4\">4</a></li>, <li class=\"page-item\"><a class=\"page-link\" href=\"https://subslikescript.com/movies_letter-A?page=5\">5</a></li>, <li class=\"page-item\"><a class=\"page-link\" href=\"https://subslikescript.com/movies_letter-A?page=6\">6</a></li>, <li class=\"page-item\"><a class=\"page-link\" href=\"https://subslikescript.com/movies_letter-A?page=7\">7</a></li>, <li class=\"page-item\"><a class=\"page-link\" href=\"https://subslikescript.com/movies_letter-A?page=8\">8</a></li>, <li class=\"page-item\"><a class=\"page-link\" href=\"https://subslikescript.com/movies_letter-A?page=9\">9</a></li>, <li class=\"page-item\"><a class=\"page-link\" href=\"https://subslikescript.com/movies_letter-A?page=10\">10</a></li>, <li aria-disabled=\"true\" class=\"page-item disabled\"><span class=\"page-link\">...</span></li>, <li class=\"page-item\"><a class=\"page-link\" href=\"https://subslikescript.com/movies_letter-A?page=141\">141</a></li>, <li class=\"page-item\"><a class=\"page-link\" href=\"https://subslikescript.com/movies_letter-A?page=142\">142</a></li>, <li class=\"page-item\">\n",
      "<a aria-label=\"Next »\" class=\"page-link\" href=\"https://subslikescript.com/movies_letter-A?page=2\" rel=\"next\">›</a>\n",
      "</li>]\n"
     ]
    }
   ],
   "source": [
    "root=\"https://subslikescript.com\"\n",
    "website=f\"{root}/movies_letter-A\"\n",
    "\n",
    "result=requests.get(website)\n",
    "content=result.text\n",
    "soup=BeautifulSoup(content,\"lxml\")\n",
    "pagination=soup.find('ul',class_='pagination')\n",
    "pages = pagination.find_all('li', class_='page-item')\n",
    "lastPage=int(pages[-2].text)\n",
    "for page in range(1,lastPage+1)[:2]:\n",
    "    website=f\"{website}?page={page}\"\n",
    "    result=requests.get(website)\n",
    "    content=result.text\n",
    "    soup=BeautifulSoup(content,\"lxml\")\n",
    "    box=soup.find('article',class_='main-article')\n",
    "    links=[]\n",
    "    for link in box.find_all('a',href=True):\n",
    "        links.append(link['href'])\n",
    "    for link in links:\n",
    "        try: \n",
    "            web=f\"{root}{link}\"\n",
    "            r1=requests.get(web)\n",
    "            page_content=r1.text\n",
    "            page_soup=BeautifulSoup(page_content,\"lxml\")\n",
    "            page_box=page_soup.find('article',class_='main-article')\n",
    "            title=page_box.find('h1').get_text()\n",
    "            transcript=page_box.find('div',class_='full-script').get_text(strip=True,separator=\" \")\n",
    "            with open(f\"transcripts/{title}.txt\",'w') as file:\n",
    "                file.write(transcript)\n",
    "        except:\n",
    "            continue        "
   ]
  },
  {
   "cell_type": "code",
   "execution_count": null,
   "metadata": {},
   "outputs": [],
   "source": [
    "# Xpath\n",
    "# //tag/text()\n",
    "#//tag[index]\n",
    "#//tag[@attrName=\"\"]\n",
    "#//tag[(@attrName=\"\") or (@attrName=\"\") and (@attrName=\"\")]\n",
    "#//tag[contains(attrName,someString]\n",
    "\n",
    "\n",
    "# Special characters\n",
    "\n",
    "# /  //  .  ..  *\n",
    "\n",
    "# how are they used ./*\n",
    "\n"
   ]
  }
 ],
 "metadata": {
  "kernelspec": {
   "display_name": "Python 3",
   "language": "python",
   "name": "python3"
  },
  "language_info": {
   "codemirror_mode": {
    "name": "ipython",
    "version": 3
   },
   "file_extension": ".py",
   "mimetype": "text/x-python",
   "name": "python",
   "nbconvert_exporter": "python",
   "pygments_lexer": "ipython3",
   "version": "3.11.7"
  }
 },
 "nbformat": 4,
 "nbformat_minor": 2
}
